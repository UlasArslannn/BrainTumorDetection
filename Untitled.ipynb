{
 "cells": [
  {
   "cell_type": "code",
   "execution_count": 1,
   "id": "9de309e5",
   "metadata": {},
   "outputs": [
    {
     "name": "stdout",
     "output_type": "stream",
     "text": [
      "WARNING:tensorflow:From C:\\Users\\MONSTER\\anaconda3\\Lib\\site-packages\\keras\\src\\losses.py:2976: The name tf.losses.sparse_softmax_cross_entropy is deprecated. Please use tf.compat.v1.losses.sparse_softmax_cross_entropy instead.\n",
      "\n"
     ]
    }
   ],
   "source": [
    "import cv2\n",
    "import os\n",
    "import numpy as np \n",
    "from PIL import Image \n",
    "from sklearn.model_selection import train_test_split \n",
    "import tensorflow as tf\n",
    "from tensorflow import keras \n",
    "from keras.models import Sequential \n",
    "from keras.utils import normalize\n",
    "from keras.layers import Conv2D , Dense , Flatten, MaxPooling2D\n",
    "from keras.layers import Activation, Dropout\n",
    "\n"
   ]
  },
  {
   "cell_type": "code",
   "execution_count": 2,
   "id": "5b8d98da",
   "metadata": {},
   "outputs": [],
   "source": [
    "image_directory = \"datasets/\""
   ]
  },
  {
   "cell_type": "code",
   "execution_count": 3,
   "id": "85b71243",
   "metadata": {},
   "outputs": [],
   "source": [
    "no_tumor_images = os.listdir(image_directory+ \"no/\")\n",
    "yes_tumor_images = os.listdir(image_directory + \"yes/\" ) "
   ]
  },
  {
   "cell_type": "code",
   "execution_count": 4,
   "id": "f10ad976",
   "metadata": {},
   "outputs": [],
   "source": [
    "IMAGE_SIZE = 64"
   ]
  },
  {
   "cell_type": "code",
   "execution_count": 5,
   "id": "4ece26f8",
   "metadata": {},
   "outputs": [],
   "source": [
    "path = \"no0.jpg\"\n",
    "dataset = []\n",
    "label = []"
   ]
  },
  {
   "cell_type": "code",
   "execution_count": 6,
   "id": "94a932e0",
   "metadata": {},
   "outputs": [],
   "source": [
    "for i , image_name in enumerate(no_tumor_images):\n",
    "    if(image_name.split(\".\")[1] == \"jpg\"):\n",
    "        image = cv2.imread(image_directory + \"no/\" + image_name)\n",
    "        image = Image.fromarray(image,'RGB')\n",
    "        image = image.resize((IMAGE_SIZE,IMAGE_SIZE))\n",
    "        dataset.append(np.array(image))\n",
    "        label.append(0)\n",
    "    \n",
    "for i , image_name in enumerate(yes_tumor_images):\n",
    "    if(image_name.split(\".\")[1] == \"jpg\"):\n",
    "        image = cv2.imread(image_directory + \"yes/\" + image_name)\n",
    "        image = Image.fromarray(image, \"RGB\")\n",
    "        image = image.resize((IMAGE_SIZE,IMAGE_SIZE))\n",
    "        dataset.append(np.array(image))\n",
    "        label.append(1)\n",
    "        \n",
    "        \n",
    "        "
   ]
  },
  {
   "cell_type": "code",
   "execution_count": 7,
   "id": "45c9aab2",
   "metadata": {},
   "outputs": [
    {
     "data": {
      "text/plain": [
       "(3000, 64, 64, 3)"
      ]
     },
     "execution_count": 7,
     "metadata": {},
     "output_type": "execute_result"
    }
   ],
   "source": [
    "np.array(dataset).shape"
   ]
  },
  {
   "cell_type": "code",
   "execution_count": 8,
   "id": "55c3843c",
   "metadata": {},
   "outputs": [],
   "source": [
    "dataset = np.array(dataset)\n",
    "label = np.array(label)"
   ]
  },
  {
   "cell_type": "markdown",
   "id": "ae159841",
   "metadata": {},
   "source": [
    "## Building Model"
   ]
  },
  {
   "cell_type": "code",
   "execution_count": 9,
   "id": "50711240",
   "metadata": {},
   "outputs": [],
   "source": [
    "x_train ,x_test , y_train , y_test = train_test_split(dataset,label , test_size=0.2 , stratify=label , random_state=0)"
   ]
  },
  {
   "cell_type": "code",
   "execution_count": 10,
   "id": "795dcb0b",
   "metadata": {},
   "outputs": [
    {
     "name": "stdout",
     "output_type": "stream",
     "text": [
      "(2400, 64, 64, 3) (2400,)\n"
     ]
    }
   ],
   "source": [
    "print(x_train.shape , y_train.shape)"
   ]
  },
  {
   "cell_type": "code",
   "execution_count": 11,
   "id": "62a04d97",
   "metadata": {},
   "outputs": [],
   "source": [
    "x_train = normalize(x_train , axis = 1 )\n",
    "x_test = normalize(x_test, axis = 1)"
   ]
  },
  {
   "cell_type": "code",
   "execution_count": 15,
   "id": "53599ddc",
   "metadata": {},
   "outputs": [],
   "source": [
    "model = Sequential()"
   ]
  },
  {
   "cell_type": "code",
   "execution_count": 16,
   "id": "07257443",
   "metadata": {},
   "outputs": [
    {
     "name": "stdout",
     "output_type": "stream",
     "text": [
      "Epoch 1/10\n",
      "WARNING:tensorflow:From C:\\Users\\MONSTER\\anaconda3\\Lib\\site-packages\\keras\\src\\utils\\tf_utils.py:492: The name tf.ragged.RaggedTensorValue is deprecated. Please use tf.compat.v1.ragged.RaggedTensorValue instead.\n",
      "\n",
      "WARNING:tensorflow:From C:\\Users\\MONSTER\\anaconda3\\Lib\\site-packages\\keras\\src\\engine\\base_layer_utils.py:384: The name tf.executing_eagerly_outside_functions is deprecated. Please use tf.compat.v1.executing_eagerly_outside_functions instead.\n",
      "\n",
      "150/150 [==============================] - 3s 11ms/step - loss: 0.5613 - accuracy: 0.7113 - val_loss: 0.4366 - val_accuracy: 0.8083\n",
      "Epoch 2/10\n",
      "150/150 [==============================] - 1s 9ms/step - loss: 0.3857 - accuracy: 0.8321 - val_loss: 0.3111 - val_accuracy: 0.8583\n",
      "Epoch 3/10\n",
      "150/150 [==============================] - 1s 9ms/step - loss: 0.2796 - accuracy: 0.8850 - val_loss: 0.2470 - val_accuracy: 0.8967\n",
      "Epoch 4/10\n",
      "150/150 [==============================] - 1s 9ms/step - loss: 0.2082 - accuracy: 0.9179 - val_loss: 0.2022 - val_accuracy: 0.9350\n",
      "Epoch 5/10\n",
      "150/150 [==============================] - 1s 9ms/step - loss: 0.1521 - accuracy: 0.9467 - val_loss: 0.1521 - val_accuracy: 0.9500\n",
      "Epoch 6/10\n",
      "150/150 [==============================] - 1s 9ms/step - loss: 0.1051 - accuracy: 0.9675 - val_loss: 0.1149 - val_accuracy: 0.9667\n",
      "Epoch 7/10\n",
      "150/150 [==============================] - 1s 9ms/step - loss: 0.0801 - accuracy: 0.9733 - val_loss: 0.0945 - val_accuracy: 0.9750\n",
      "Epoch 8/10\n",
      "150/150 [==============================] - 1s 9ms/step - loss: 0.0435 - accuracy: 0.9858 - val_loss: 0.1028 - val_accuracy: 0.9783\n",
      "Epoch 9/10\n",
      "150/150 [==============================] - 1s 10ms/step - loss: 0.0316 - accuracy: 0.9904 - val_loss: 0.1080 - val_accuracy: 0.9717\n",
      "Epoch 10/10\n",
      "150/150 [==============================] - 1s 10ms/step - loss: 0.0432 - accuracy: 0.9854 - val_loss: 0.0977 - val_accuracy: 0.9817\n"
     ]
    },
    {
     "name": "stderr",
     "output_type": "stream",
     "text": [
      "C:\\Users\\MONSTER\\anaconda3\\Lib\\site-packages\\keras\\src\\engine\\training.py:3103: UserWarning: You are saving your model as an HDF5 file via `model.save()`. This file format is considered legacy. We recommend using instead the native Keras format, e.g. `model.save('my_model.keras')`.\n",
      "  saving_api.save_model(\n"
     ]
    }
   ],
   "source": [
    "model.add(Conv2D(32, (3,3) , \n",
    "                 activation = 'relu' ,\n",
    "                 input_shape =(IMAGE_SIZE,IMAGE_SIZE ,3)))\n",
    "\n",
    "model.add(MaxPooling2D(pool_size=(2,2)))\n",
    "\n",
    "model.add(Conv2D(32, (3,3) , activation = 'relu' ))\n",
    "\n",
    "model.add(MaxPooling2D(pool_size=(2,2)))\n",
    "\n",
    "model.add(Conv2D(32, (3,3) , activation = 'relu' ))\n",
    "\n",
    "model.add(MaxPooling2D(pool_size=(2,2)))\n",
    "\n",
    "model.add(Flatten())\n",
    "model.add(Dense(64 , activation= 'relu'))\n",
    "model.add(Dropout(0.2))\n",
    "model.add(Dense(1, activation = 'sigmoid'))\n",
    "\n",
    "model.compile(loss = \"binary_crossentropy\", optimizer = 'adam' ,\n",
    "              metrics=['accuracy'])\n",
    "model.fit(x_train , y_train , batch_size = 16 , verbose=1, \n",
    "          epochs = 10, validation_data = (x_test, y_test) ,\n",
    "          shuffle=False)\n",
    "\n",
    "model.save('BrainTumor10Epochs.h5')"
   ]
  },
  {
   "cell_type": "code",
   "execution_count": 19,
   "id": "600b77e2",
   "metadata": {},
   "outputs": [
    {
     "name": "stdout",
     "output_type": "stream",
     "text": [
      "19/19 [==============================] - 0s 5ms/step\n"
     ]
    }
   ],
   "source": [
    "y_pred = model.predict(x_test)"
   ]
  },
  {
   "cell_type": "code",
   "execution_count": 20,
   "id": "a94e20ab",
   "metadata": {},
   "outputs": [
    {
     "name": "stdout",
     "output_type": "stream",
     "text": [
      "Accuracy: 98.17%\n"
     ]
    }
   ],
   "source": [
    "scores = model.evaluate(x_test, y_test, verbose=0)\n",
    "print(f\"Accuracy: {scores[1] * 100:.2f}%\")"
   ]
  },
  {
   "cell_type": "code",
   "execution_count": null,
   "id": "a146ca39",
   "metadata": {},
   "outputs": [],
   "source": []
  }
 ],
 "metadata": {
  "kernelspec": {
   "display_name": "Python 3 (ipykernel)",
   "language": "python",
   "name": "python3"
  },
  "language_info": {
   "codemirror_mode": {
    "name": "ipython",
    "version": 3
   },
   "file_extension": ".py",
   "mimetype": "text/x-python",
   "name": "python",
   "nbconvert_exporter": "python",
   "pygments_lexer": "ipython3",
   "version": "3.11.5"
  }
 },
 "nbformat": 4,
 "nbformat_minor": 5
}
